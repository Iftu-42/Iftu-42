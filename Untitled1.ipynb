{
  "nbformat": 4,
  "nbformat_minor": 0,
  "metadata": {
    "colab": {
      "provenance": [],
      "authorship_tag": "ABX9TyNvfNkHhvug94lglSekhmP4",
      "include_colab_link": true
    },
    "kernelspec": {
      "name": "python3",
      "display_name": "Python 3"
    },
    "language_info": {
      "name": "python"
    }
  },
  "cells": [
    {
      "cell_type": "markdown",
      "metadata": {
        "id": "view-in-github",
        "colab_type": "text"
      },
      "source": [
        "<a href=\"https://colab.research.google.com/github/Iftu-42/Iftu-42/blob/main/Untitled1.ipynb\" target=\"_parent\"><img src=\"https://colab.research.google.com/assets/colab-badge.svg\" alt=\"Open In Colab\"/></a>"
      ]
    },
    {
      "cell_type": "code",
      "execution_count": null,
      "metadata": {
        "id": "3CoiZOh_K5Y1"
      },
      "outputs": [],
      "source": []
    },
    {
      "cell_type": "markdown",
      "source": [
        "1. What is the difference between a list, a dictionary, and a NumPy array? Give one example of each.\n",
        "# All are used to store data but\n",
        "a,list is enclosed with square brace and its mutable this means data can change and we can enter any types of data in one list.\n"
      ],
      "metadata": {
        "id": "UqCu3MWaLqVj"
      }
    },
    {
      "cell_type": "code",
      "source": [
        "list=[\"apple\",\"mango\",\"23\",\"3.78\"]\n",
        "print(list)\n"
      ],
      "metadata": {
        "colab": {
          "base_uri": "https://localhost:8080/"
        },
        "id": "RVG6j86TNVrF",
        "outputId": "02082e4d-0a19-4b8f-d666-bcb379578aa8"
      },
      "execution_count": 2,
      "outputs": [
        {
          "output_type": "stream",
          "name": "stdout",
          "text": [
            "['apple', 'mango', '23', '3.78']\n"
          ]
        }
      ]
    },
    {
      "cell_type": "markdown",
      "source": [
        "b,dictionary is enclosed in curly brace and it have what we call key and value which make it different from others and the key is immutable but the value is mutable.\n"
      ],
      "metadata": {
        "id": "a2No23mjNvLN"
      }
    },
    {
      "cell_type": "code",
      "source": [
        "dict={\"house\":\"villa\",\"car\":\"BMW\",\"NUMBER\":\"45677\"}\n",
        "print(dict[\"car\"])\n"
      ],
      "metadata": {
        "colab": {
          "base_uri": "https://localhost:8080/"
        },
        "id": "DIGDqAbiOKXr",
        "outputId": "21862e7c-dd5a-453b-ff35-8e10b6e4b1b0"
      },
      "execution_count": 4,
      "outputs": [
        {
          "output_type": "stream",
          "name": "stdout",
          "text": [
            "BMW\n"
          ]
        }
      ]
    },
    {
      "cell_type": "markdown",
      "source": [
        "c,Numpy array is alternative way to python list but calculation set for ach element within a numpy array and it only contain single data type.\n"
      ],
      "metadata": {
        "id": "_XhfASC3PRGT"
      }
    },
    {
      "cell_type": "code",
      "source": [
        "import numpy as np\n",
        "# grams of [protein, carbohydrate, fat]\n",
        "grams=[60,120,40]\n",
        "# calories per gram for [protein, carbohydrate, fat]\n",
        "calpgram=[5,7,8]\n",
        "grams=np.array(grams)\n",
        "import numpy as np\n",
        "# grams of [protein, carbohydrate, fat]\n",
        "grams=[60,120,40]\n",
        "# calories per gram for [protein, carbohydrate, fat]\n",
        "calpgram=[5,7,8]\n",
        "grams=np.array(grams)\n",
        "calpgram=np.array(calpgram)\n",
        "calpernut=grams*calpgram\n",
        "print(\"Calories per nutrient:\",calpernut)\n",
        "\n",
        "\n"
      ],
      "metadata": {
        "colab": {
          "base_uri": "https://localhost:8080/"
        },
        "id": "ElSEhGt4RRE5",
        "outputId": "5cf07ead-6b78-4d9f-c38d-044d1eb77c0f"
      },
      "execution_count": 7,
      "outputs": [
        {
          "output_type": "stream",
          "name": "stdout",
          "text": [
            "Calories per nutrient: [300 840 320]\n"
          ]
        }
      ]
    },
    {
      "cell_type": "markdown",
      "source": [
        "2. Given the list [10, 15, 20, 25, 30], write a function that returns the square of only even numbers.\n",
        "answer\n"
      ],
      "metadata": {
        "id": "THQ_4iuhYMCm"
      }
    },
    {
      "cell_type": "code",
      "source": [
        "def SEN(list):\n",
        "  list=[10,15,20,25,30]\n",
        "  for i in list:\n",
        "    if i%2==0:\n",
        "      print(i**2)\n",
        "SEN(list)\n"
      ],
      "metadata": {
        "colab": {
          "base_uri": "https://localhost:8080/"
        },
        "id": "mxNG8hZ5YTUP",
        "outputId": "8e46f8ee-1d30-4500-fe49-e114baf0f207"
      },
      "execution_count": 12,
      "outputs": [
        {
          "output_type": "stream",
          "name": "stdout",
          "text": [
            "100\n",
            "400\n",
            "900\n"
          ]
        }
      ]
    },
    {
      "cell_type": "markdown",
      "source": [
        "3. What does the following code output, and why?\n"
      ],
      "metadata": {
        "id": "5jWFj8DgYuHC"
      }
    },
    {
      "cell_type": "code",
      "source": [
        "x = [1, 2, 3]\n",
        "y = x\n",
        "y.append(4)\n",
        "print(x)\n",
        "\n"
      ],
      "metadata": {
        "colab": {
          "base_uri": "https://localhost:8080/"
        },
        "id": "kDGAqSCwY6XA",
        "outputId": "9d6153bb-6391-4584-929e-a939440ea5df"
      },
      "execution_count": 13,
      "outputs": [
        {
          "output_type": "stream",
          "name": "stdout",
          "text": [
            "[1, 2, 3, 4]\n"
          ]
        }
      ]
    },
    {
      "cell_type": "markdown",
      "source": [
        "In Python, when you do y = x, both y and x point to the same list. So, if you change y (like y.append(4)), it will also change x.\n"
      ],
      "metadata": {
        "id": "tYk8jljwZbc9"
      }
    },
    {
      "cell_type": "markdown",
      "source": [
        "4. What does .shape and .describe() tell you about a pandas DataFrame? Show using an example.\n",
        "answer:\n",
        ".shape will tell you the dimension of dataframe means how many column and raws are there.\n",
        ".describe() will tell the dataframe summary things like mean,min,max and so on.\n",
        "I USE EXAMPLE THE ANSWER OF QUESTION NUMBER FIVE."
      ],
      "metadata": {
        "id": "dQhPUgO1ZwO8"
      }
    },
    {
      "cell_type": "markdown",
      "source": [
        "5. Load this CSV: airtravel.csv\n",
        "Print the first 5 rows\n",
        "What do you notice about the data?\n"
      ],
      "metadata": {
        "id": "jcnSI9rmbVg0"
      }
    },
    {
      "cell_type": "code",
      "source": [
        "import pandas as pd\n",
        "airtravel = {\n",
        "    'month': ['JAN','FEB', 'MARCH','APRIL'],\n",
        "    '1958': [340, 318,362,348],\n",
        "    '1959': [360,342,406,396],\n",
        "    '1960':[417,391,419,461]\n",
        "}\n",
        "\n",
        "AT = pd.DataFrame(airtravel)\n",
        "print(\"Shape of DataFrame:\", AT.shape)\n",
        "print(\"Statistical Summary of Numeric Columns:\")\n",
        "print(AT.describe())\n",
        "\n"
      ],
      "metadata": {
        "colab": {
          "base_uri": "https://localhost:8080/"
        },
        "id": "sZYY2qtSflZS",
        "outputId": "00df3065-8445-45ec-e342-0677c7864e46"
      },
      "execution_count": 27,
      "outputs": [
        {
          "output_type": "stream",
          "name": "stdout",
          "text": [
            "Shape of DataFrame: (4, 4)\n",
            "Statistical Summary of Numeric Columns:\n",
            "             1958        1959        1960\n",
            "count    4.000000    4.000000    4.000000\n",
            "mean   342.000000  376.000000  422.000000\n",
            "std     18.402898   30.066593   28.959742\n",
            "min    318.000000  342.000000  391.000000\n",
            "25%    334.500000  355.500000  410.500000\n",
            "50%    344.000000  378.000000  418.000000\n",
            "75%    351.500000  398.500000  429.500000\n",
            "max    362.000000  406.000000  461.000000\n"
          ]
        }
      ]
    },
    {
      "cell_type": "markdown",
      "source": [
        "The first column is Month and The other columns are numbers showing how many people traveled by air each month for different years.\n"
      ],
      "metadata": {
        "id": "Dan8fLf6jQmK"
      }
    },
    {
      "cell_type": "markdown",
      "source": [
        "6.Load the CSV from Q5 and find:\n",
        "  The month with the highest total passengers\n",
        "  The month with the lowest in 1958\n",
        "  "
      ],
      "metadata": {
        "id": "TxfRm5Y-jlhz"
      }
    },
    {
      "cell_type": "markdown",
      "source": [
        "7.  What does the .groupby() function do in pandas? Show an example using dummy data.\n",
        "It groups data by a specific column and then does something to each group, like adding up the numbers or finding the average.\n",
        "in this example it add up number of fruits."
      ],
      "metadata": {
        "id": "3gdJdsQUlbwl"
      }
    },
    {
      "cell_type": "code",
      "source": [
        "import pandas as pd\n",
        "fruits = {\n",
        "    'Fruit': ['Apple', 'Banana', 'orange', 'Banana', 'orange'],\n",
        "    'Quantity': [5, 3, 7, 6, 2]\n",
        "}\n",
        "fr = pd.DataFrame(fruits)\n",
        "grouped = fr.groupby('Fruit').sum()\n",
        "print(grouped)\n"
      ],
      "metadata": {
        "colab": {
          "base_uri": "https://localhost:8080/"
        },
        "id": "Yaz_I-x9mXH9",
        "outputId": "fdbc2c36-3593-4ec6-8e8e-2bba5e02e6f2"
      },
      "execution_count": 31,
      "outputs": [
        {
          "output_type": "stream",
          "name": "stdout",
          "text": [
            "        Quantity\n",
            "Fruit           \n",
            "Apple          5\n",
            "Banana         9\n",
            "orange         9\n"
          ]
        }
      ]
    },
    {
      "cell_type": "markdown",
      "source": [
        "8. Load the Titanic dataset from seaborn and:\n",
        "\n",
        "  Count how many missing values are in each column  \n",
        "  answer\n",
        "  When we say missing values we mean that there are some empty spots in the table where information is supposed to be, but it's not there."
      ],
      "metadata": {
        "id": "FoU2hrnBnvGw"
      }
    },
    {
      "cell_type": "code",
      "source": [
        "import seaborn as sns\n",
        "titanic = sns.load_dataset('titanic')\n",
        "missing_values = titanic.isnull().sum()\n",
        "print(missing_values)\n",
        "\n"
      ],
      "metadata": {
        "colab": {
          "base_uri": "https://localhost:8080/"
        },
        "id": "k0Izdbv6oGMc",
        "outputId": "8afca547-0874-4a16-92ed-8a8d193a3e49"
      },
      "execution_count": 32,
      "outputs": [
        {
          "output_type": "stream",
          "name": "stdout",
          "text": [
            "survived         0\n",
            "pclass           0\n",
            "sex              0\n",
            "age            177\n",
            "sibsp            0\n",
            "parch            0\n",
            "fare             0\n",
            "embarked         2\n",
            "class            0\n",
            "who              0\n",
            "adult_male       0\n",
            "deck           688\n",
            "embark_town      2\n",
            "alive            0\n",
            "alone            0\n",
            "dtype: int64\n"
          ]
        }
      ]
    },
    {
      "cell_type": "markdown",
      "source": [
        "9.  Use df[\"Age\"].hist() to visualize the age distribution.\n",
        "What shape do you see\n",
        "\n",
        "What might be the reason for the skew?\n"
      ],
      "metadata": {
        "id": "mp7hjQj2p6HR"
      }
    },
    {
      "cell_type": "code",
      "source": [
        "import seaborn as sns\n",
        "import matplotlib.pyplot as plt\n",
        "\n",
        "titanic = sns.load_dataset('titanic')\n",
        "titanic[\"age\"].hist(bins=20, edgecolor='black')\n",
        "plt.title('Age Distribution of Titanic Passengers')\n",
        "plt.xlabel('Age')\n",
        "plt.ylabel('Frequency')\n",
        "plt.show()\n",
        "\n"
      ],
      "metadata": {
        "colab": {
          "base_uri": "https://localhost:8080/",
          "height": 472
        },
        "id": "sDhE4t56p-8Z",
        "outputId": "8153f5e0-c799-4b02-f441-2462c20b7201"
      },
      "execution_count": 35,
      "outputs": [
        {
          "output_type": "display_data",
          "data": {
            "text/plain": [
              "<Figure size 640x480 with 1 Axes>"
            ],
            "image/png": "[encoded data removed]"
          },
          "metadata": {}
        }
      ]
    },
    {
      "cell_type": "markdown",
      "source": [
        "The histogram of ages is right-skewed which is right skewed means that the data has a long tail on the right this means there are more younger passengers and fewer older passengers\n"
      ],
      "metadata": {
        "id": "k7Qb3kSFUXVp"
      }
    },
    {
      "cell_type": "markdown",
      "source": [
        "10. What does it mean if a column has a high standard deviation?\n",
        "\n",
        "  Create a list or column that has a low and a high std. dev, and compare.  \n",
        "answer\n",
        "A high standard deviation means the numbers in the column are very different from each other with some numbers being higher or lower than the average or the numbers are not close to each other.\n"
      ],
      "metadata": {
        "id": "dsjGI3NIsON7"
      }
    },
    {
      "cell_type": "code",
      "source": [
        "import math\n",
        "A = [60, 65, 70, 75, 80]\n",
        "B = [40, 50, 90, 60, 100]\n",
        "def calstdev(scores):\n",
        "    mean = sum(scores) / len(scores)\n",
        "    variance = sum((x - mean) ** 2 for x in scores) / len(scores)\n",
        "    return math.sqrt(variance)\n",
        "STDVA = calstdev(A)\n",
        "STDVB= calstdev(B)\n",
        "print(f\"Course A standard deviation: {STDVA}\")\n",
        "print(f\"Course B standard deviation: {STDVB}\")\n",
        "\n"
      ],
      "metadata": {
        "colab": {
          "base_uri": "https://localhost:8080/"
        },
        "id": "Sm0hyLAStgxi",
        "outputId": "2353779c-6343-48a7-b945-be40d110bed0"
      },
      "execution_count": 39,
      "outputs": [
        {
          "output_type": "stream",
          "name": "stdout",
          "text": [
            "Course A standard deviation: 7.0710678118654755\n",
            "Course B standard deviation: 23.15167380558045\n"
          ]
        }
      ]
    },
    {
      "cell_type": "markdown",
      "source": [
        "11.What are some real-world problems where missing data might affect results? Give 2 examples.\n",
        "answer\n",
        "1,Student Grades If some students exam scores or assignment marks are missing, it can make their final grades wrong. For example, if a student score on an important test is missing, their overall grade may not show how well they really did. This could affect if they pass or fail.\n",
        "2,If some voting data is missing or not recorded correctly, the government may not know the true results of an election. For example, if votes from certain areas are not counted, it could make it look like fewer people voted, and the government might make wrong decisions about who should represent the people."
      ],
      "metadata": {
        "id": "aaYGxvuEvrZL"
      }
    }
  ]
}